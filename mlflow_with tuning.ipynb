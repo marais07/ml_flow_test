{
 "cells": [
  {
   "cell_type": "markdown",
   "metadata": {},
   "source": [
    "## Hyperparameter Tuning with GridSearchCV and MLflow Tracking for Multiple Models Using a Validation Set\n",
    "\n",
    "### Step 1: Import Libraries"
   ]
  },
  {
   "cell_type": "code",
   "execution_count": 57,
   "metadata": {},
   "outputs": [],
   "source": [
    "import mlflow\n",
    "import mlflow.sklearn\n",
    "from sklearn.datasets import load_digits\n",
    "from sklearn.model_selection import GridSearchCV, train_test_split\n",
    "from sklearn.ensemble import RandomForestClassifier\n",
    "from sklearn.svm import SVC\n",
    "from sklearn.metrics import accuracy_score\n",
    "import matplotlib.pyplot as plt\n",
    "from sklearn.metrics import accuracy_score, make_scorer"
   ]
  },
  {
   "cell_type": "markdown",
   "metadata": {},
   "source": [
    "### Step 2: Load and Split the Dataset"
   ]
  },
  {
   "cell_type": "code",
   "execution_count": 58,
   "metadata": {},
   "outputs": [
    {
     "data": {
      "text/plain": [
       "(1797, 64)"
      ]
     },
     "execution_count": 58,
     "metadata": {},
     "output_type": "execute_result"
    }
   ],
   "source": [
    "# Load and split data\n",
    "digits = load_digits()\n",
    "digits.data.shape"
   ]
  },
  {
   "cell_type": "code",
   "execution_count": 59,
   "metadata": {},
   "outputs": [
    {
     "data": {
      "text/plain": [
       "<Figure size 640x480 with 0 Axes>"
      ]
     },
     "metadata": {},
     "output_type": "display_data"
    },
    {
     "data": {
      "image/png": "[encoded data removed]",
      "text/plain": [
       "<Figure size 480x480 with 1 Axes>"
      ]
     },
     "metadata": {},
     "output_type": "display_data"
    },
    {
     "name": "stdout",
     "output_type": "stream",
     "text": [
      "0\n"
     ]
    }
   ],
   "source": [
    "plt.gray()\n",
    "plt.matshow(digits.images[0])\n",
    "plt.show()\n",
    "print(digits.target[0])"
   ]
  },
  {
   "cell_type": "code",
   "execution_count": 60,
   "metadata": {},
   "outputs": [],
   "source": [
    "X_train, X_test, y_train, y_test = train_test_split(digits.data, digits.target, test_size=0.2, random_state=42)\n",
    "X_train, X_val, y_train, y_val = train_test_split(X_train, y_train, test_size=0.2, random_state=42)"
   ]
  },
  {
   "cell_type": "code",
   "execution_count": 61,
   "metadata": {},
   "outputs": [],
   "source": [
    "# Define model and parameter grid\n",
    "rf_model = RandomForestClassifier()\n",
    "rf_param_grid = {\n",
    "    'n_estimators': [50, 100, 200],\n",
    "    'max_depth': [None, 10, 20, 30],\n",
    "    'min_samples_split': [2, 5, 10]\n",
    "}"
   ]
  },
  {
   "cell_type": "code",
   "execution_count": 62,
   "metadata": {},
   "outputs": [],
   "source": [
    "# SVM\n",
    "svm_model = SVC()\n",
    "svm_param_grid = {\n",
    "    'C': [0.1, 1, 10, 100],\n",
    "    'kernel': ['linear', 'rbf', 'poly'],\n",
    "    'gamma': ['scale', 'auto']\n",
    "}"
   ]
  },
  {
   "cell_type": "code",
   "execution_count": 63,
   "metadata": {},
   "outputs": [],
   "source": [
    "def custom_scorer(estimator, X, y):\n",
    "    y_pred = estimator.predict(X)\n",
    "    return accuracy_score(y, y_pred)\n",
    "\n",
    "accuracy_scorer = make_scorer(custom_scorer)"
   ]
  },
  {
   "cell_type": "code",
   "execution_count": 64,
   "metadata": {},
   "outputs": [],
   "source": [
    "# Random Forest GridSearchCV\n",
    "rf_grid_search = GridSearchCV(estimator=rf_model, param_grid=rf_param_grid, cv=3, n_jobs=-1, verbose=2, scoring='accuracy')"
   ]
  },
  {
   "cell_type": "code",
   "execution_count": 65,
   "metadata": {},
   "outputs": [],
   "source": [
    "# SVM GridSearchCV\n",
    "svm_grid_search = GridSearchCV(estimator=svm_model, param_grid=svm_param_grid, cv=3, n_jobs=-1, verbose=2, scoring='accuracy')"
   ]
  },
  {
   "cell_type": "code",
   "execution_count": 66,
   "metadata": {},
   "outputs": [],
   "source": [
    "def log_cv_results_to_mlflow(cv_results):\n",
    "    for i in range(len(cv_results['params'])):\n",
    "        with mlflow.start_run(nested=True):\n",
    "            mlflow.log_params(cv_results['params'][i])\n",
    "            mlflow.log_metric('mean_test_score', cv_results['mean_test_score'][i])\n",
    "            mlflow.log_metric('std_test_score', cv_results['std_test_score'][i])\n",
    "            mlflow.log_metric('rank_test_score', cv_results['rank_test_score'][i])\n"
   ]
  },
  {
   "cell_type": "code",
   "execution_count": 67,
   "metadata": {},
   "outputs": [],
   "source": [
    "def log_dataset_info():\n",
    "    mlflow.set_tag('dataset_name', 'Digits')\n",
    "    mlflow.set_tag('feature_names', digits.feature_names)\n",
    "    mlflow.set_tag('target_names', digits.target_names.tolist())\n",
    "    mlflow.log_param('num_features', X_train.shape[1])\n",
    "    mlflow.log_param('num_train_samples', X_train.shape[0])\n",
    "    mlflow.log_param('num_val_samples', X_val.shape[0])\n",
    "    mlflow.log_param('num_test_samples', X_test.shape[0])\n"
   ]
  },
  {
   "cell_type": "code",
   "execution_count": 68,
   "metadata": {},
   "outputs": [
    {
     "name": "stdout",
     "output_type": "stream",
     "text": [
      "Fitting 3 folds for each of 36 candidates, totalling 108 fits\n",
      "[CV] END max_depth=None, min_samples_split=2, n_estimators=50; total time=   0.3s\n",
      "[CV] END max_depth=None, min_samples_split=2, n_estimators=50; total time=   0.3s\n",
      "[CV] END max_depth=None, min_samples_split=2, n_estimators=50; total time=   0.3s\n",
      "[CV] END max_depth=None, min_samples_split=2, n_estimators=100; total time=   0.5s\n",
      "[CV] END max_depth=None, min_samples_split=5, n_estimators=50; total time=   0.2s\n",
      "[CV] END max_depth=None, min_samples_split=2, n_estimators=100; total time=   0.5s\n",
      "[CV] END max_depth=None, min_samples_split=2, n_estimators=100; total time=   0.5s\n",
      "[CV] END max_depth=None, min_samples_split=5, n_estimators=50; total time=   0.2s\n",
      "[CV] END max_depth=None, min_samples_split=5, n_estimators=50; total time=   0.2s\n",
      "[CV] END max_depth=None, min_samples_split=5, n_estimators=100; total time=   0.5s\n",
      "[CV] END max_depth=None, min_samples_split=5, n_estimators=100; total time=   0.5s\n",
      "[CV] END max_depth=None, min_samples_split=2, n_estimators=200; total time=   1.0s\n",
      "[CV] END max_depth=None, min_samples_split=2, n_estimators=200; total time=   1.0s\n",
      "[CV] END max_depth=None, min_samples_split=5, n_estimators=100; total time=   0.6s\n",
      "[CV] END max_depth=None, min_samples_split=2, n_estimators=200; total time=   1.0s\n",
      "[CV] END max_depth=None, min_samples_split=10, n_estimators=50; total time=   0.5s\n",
      "[CV] END max_depth=None, min_samples_split=10, n_estimators=50; total time=   0.5s\n",
      "[CV] END max_depth=None, min_samples_split=10, n_estimators=50; total time=   0.5s\n",
      "[CV] END max_depth=None, min_samples_split=5, n_estimators=200; total time=   1.3s\n",
      "[CV] END max_depth=None, min_samples_split=10, n_estimators=100; total time=   0.9s\n",
      "[CV] END max_depth=None, min_samples_split=10, n_estimators=100; total time=   0.8s\n",
      "[CV] END max_depth=None, min_samples_split=5, n_estimators=200; total time=   1.4s\n",
      "[CV] END max_depth=None, min_samples_split=10, n_estimators=100; total time=   0.7s\n",
      "[CV] END .max_depth=10, min_samples_split=2, n_estimators=50; total time=   0.2s\n",
      "[CV] END .max_depth=10, min_samples_split=2, n_estimators=50; total time=   0.2s\n",
      "[CV] END max_depth=None, min_samples_split=5, n_estimators=200; total time=   1.3s\n",
      "[CV] END .max_depth=10, min_samples_split=2, n_estimators=50; total time=   0.3s\n",
      "[CV] END max_depth=None, min_samples_split=10, n_estimators=200; total time=   1.1s\n",
      "[CV] END max_depth=10, min_samples_split=2, n_estimators=100; total time=   0.6s\n",
      "[CV] END max_depth=None, min_samples_split=10, n_estimators=200; total time=   1.3s\n",
      "[CV] END max_depth=10, min_samples_split=2, n_estimators=100; total time=   0.6s\n",
      "[CV] END max_depth=10, min_samples_split=2, n_estimators=100; total time=   0.6s\n",
      "[CV] END max_depth=None, min_samples_split=10, n_estimators=200; total time=   1.1s\n",
      "[CV] END .max_depth=10, min_samples_split=5, n_estimators=50; total time=   0.2s\n",
      "[CV] END .max_depth=10, min_samples_split=5, n_estimators=50; total time=   0.2s\n",
      "[CV] END .max_depth=10, min_samples_split=5, n_estimators=50; total time=   0.3s\n",
      "[CV] END max_depth=10, min_samples_split=5, n_estimators=100; total time=   0.4s\n",
      "[CV] END max_depth=10, min_samples_split=2, n_estimators=200; total time=   1.0s\n",
      "[CV] END max_depth=10, min_samples_split=5, n_estimators=100; total time=   0.4s\n",
      "[CV] END max_depth=10, min_samples_split=2, n_estimators=200; total time=   1.0s\n",
      "[CV] END max_depth=10, min_samples_split=5, n_estimators=100; total time=   0.4s\n",
      "[CV] END max_depth=10, min_samples_split=10, n_estimators=50; total time=   0.2s\n",
      "[CV] END max_depth=10, min_samples_split=2, n_estimators=200; total time=   0.9s\n",
      "[CV] END max_depth=10, min_samples_split=10, n_estimators=50; total time=   0.2s\n",
      "[CV] END max_depth=10, min_samples_split=10, n_estimators=50; total time=   0.2s\n",
      "[CV] END max_depth=10, min_samples_split=10, n_estimators=100; total time=   0.4s\n",
      "[CV] END max_depth=10, min_samples_split=5, n_estimators=200; total time=   0.8s\n",
      "[CV] END max_depth=10, min_samples_split=10, n_estimators=100; total time=   0.4s\n",
      "[CV] END max_depth=10, min_samples_split=5, n_estimators=200; total time=   0.8s\n",
      "[CV] END max_depth=10, min_samples_split=10, n_estimators=100; total time=   0.4s\n",
      "[CV] END .max_depth=20, min_samples_split=2, n_estimators=50; total time=   0.2s\n",
      "[CV] END max_depth=10, min_samples_split=5, n_estimators=200; total time=   0.8s\n",
      "[CV] END .max_depth=20, min_samples_split=2, n_estimators=50; total time=   0.2s\n",
      "[CV] END .max_depth=20, min_samples_split=2, n_estimators=50; total time=   0.2s\n",
      "[CV] END max_depth=20, min_samples_split=2, n_estimators=100; total time=   0.4s\n",
      "[CV] END max_depth=10, min_samples_split=10, n_estimators=200; total time=   0.7s\n",
      "[CV] END max_depth=10, min_samples_split=10, n_estimators=200; total time=   0.8s\n",
      "[CV] END max_depth=20, min_samples_split=2, n_estimators=100; total time=   0.4s\n",
      "[CV] END max_depth=20, min_samples_split=2, n_estimators=100; total time=   0.4s\n",
      "[CV] END .max_depth=20, min_samples_split=5, n_estimators=50; total time=   0.2s\n",
      "[CV] END max_depth=10, min_samples_split=10, n_estimators=200; total time=   0.8s\n",
      "[CV] END .max_depth=20, min_samples_split=5, n_estimators=50; total time=   0.3s\n",
      "[CV] END .max_depth=20, min_samples_split=5, n_estimators=50; total time=   0.2s\n",
      "[CV] END max_depth=20, min_samples_split=5, n_estimators=100; total time=   0.4s\n",
      "[CV] END max_depth=20, min_samples_split=2, n_estimators=200; total time=   0.8s\n",
      "[CV] END max_depth=20, min_samples_split=5, n_estimators=100; total time=   0.4s\n",
      "[CV] END max_depth=20, min_samples_split=5, n_estimators=100; total time=   0.4s\n",
      "[CV] END max_depth=20, min_samples_split=2, n_estimators=200; total time=   0.9s\n",
      "[CV] END max_depth=20, min_samples_split=2, n_estimators=200; total time=   0.8s\n",
      "[CV] END max_depth=20, min_samples_split=10, n_estimators=50; total time=   0.2s\n",
      "[CV] END max_depth=20, min_samples_split=10, n_estimators=50; total time=   0.2s\n",
      "[CV] END max_depth=20, min_samples_split=10, n_estimators=50; total time=   0.2s\n",
      "[CV] END max_depth=20, min_samples_split=5, n_estimators=200; total time=   0.8s\n",
      "[CV] END max_depth=20, min_samples_split=10, n_estimators=100; total time=   0.4s\n",
      "[CV] END max_depth=20, min_samples_split=10, n_estimators=100; total time=   0.4s\n",
      "[CV] END max_depth=20, min_samples_split=5, n_estimators=200; total time=   0.8s\n",
      "[CV] END max_depth=20, min_samples_split=10, n_estimators=100; total time=   0.4s\n",
      "[CV] END .max_depth=30, min_samples_split=2, n_estimators=50; total time=   0.2s\n",
      "[CV] END .max_depth=30, min_samples_split=2, n_estimators=50; total time=   0.2s\n",
      "[CV] END max_depth=20, min_samples_split=5, n_estimators=200; total time=   0.7s[CV] END .max_depth=30, min_samples_split=2, n_estimators=50; total time=   0.2s\n",
      "\n",
      "[CV] END max_depth=20, min_samples_split=10, n_estimators=200; total time=   0.7s\n",
      "[CV] END max_depth=30, min_samples_split=2, n_estimators=100; total time=   0.4s\n",
      "[CV] END max_depth=20, min_samples_split=10, n_estimators=200; total time=   0.7s\n",
      "[CV] END max_depth=30, min_samples_split=2, n_estimators=100; total time=   0.4s\n",
      "[CV] END max_depth=30, min_samples_split=2, n_estimators=100; total time=   0.4s\n",
      "[CV] END .max_depth=30, min_samples_split=5, n_estimators=50; total time=   0.2s\n",
      "[CV] END .max_depth=30, min_samples_split=5, n_estimators=50; total time=   0.2s\n",
      "[CV] END max_depth=20, min_samples_split=10, n_estimators=200; total time=   0.8s\n",
      "[CV] END .max_depth=30, min_samples_split=5, n_estimators=50; total time=   0.2s\n",
      "[CV] END max_depth=30, min_samples_split=5, n_estimators=100; total time=   0.4s\n",
      "[CV] END max_depth=30, min_samples_split=5, n_estimators=100; total time=   0.4s\n",
      "[CV] END max_depth=30, min_samples_split=2, n_estimators=200; total time=   0.9s\n",
      "[CV] END max_depth=30, min_samples_split=2, n_estimators=200; total time=   0.9s\n",
      "[CV] END max_depth=30, min_samples_split=5, n_estimators=100; total time=   0.4s\n",
      "[CV] END max_depth=30, min_samples_split=2, n_estimators=200; total time=   0.8s\n",
      "[CV] END max_depth=30, min_samples_split=10, n_estimators=50; total time=   0.2s\n",
      "[CV] END max_depth=30, min_samples_split=10, n_estimators=50; total time=   0.2s\n",
      "[CV] END max_depth=30, min_samples_split=10, n_estimators=50; total time=   0.2s\n",
      "[CV] END max_depth=30, min_samples_split=10, n_estimators=100; total time=   0.3s\n",
      "[CV] END max_depth=30, min_samples_split=5, n_estimators=200; total time=   0.8s\n",
      "[CV] END max_depth=30, min_samples_split=5, n_estimators=200; total time=   0.8s\n",
      "[CV] END max_depth=30, min_samples_split=10, n_estimators=100; total time=   0.3s\n",
      "[CV] END max_depth=30, min_samples_split=10, n_estimators=100; total time=   0.3s\n",
      "[CV] END max_depth=30, min_samples_split=5, n_estimators=200; total time=   0.7s\n",
      "[CV] END max_depth=30, min_samples_split=10, n_estimators=200; total time=   0.6s\n",
      "[CV] END max_depth=30, min_samples_split=10, n_estimators=200; total time=   0.5s\n",
      "[CV] END max_depth=30, min_samples_split=10, n_estimators=200; total time=   0.5s\n"
     ]
    }
   ],
   "source": [
    "# Start a parent run for Random Forest\n",
    "with mlflow.start_run(run_name=\"GridSearchCV_RandomForest\") as rf_parent_run:\n",
    "    # Log dataset information\n",
    "    log_dataset_info()\n",
    "    \n",
    "    rf_grid_search.fit(X_train, y_train)\n",
    "    \n",
    "    # Log the best estimator in a separate, clearly designated run\n",
    "    with mlflow.start_run(run_name=\"BestModel_RandomForest\", nested=True) as rf_best_model_run:\n",
    "        mlflow.sklearn.log_model(rf_grid_search.best_estimator_, \"best_model_rf\")\n",
    "        mlflow.log_params(rf_grid_search.best_params_)\n",
    "        mlflow.log_metric('best_score', rf_grid_search.best_score_)\n",
    "        mlflow.set_tag('parent_run_id', rf_parent_run.info.run_id)\n",
    "\n",
    "    # Log all results for hyperparameter tuning\n",
    "    log_cv_results_to_mlflow(rf_grid_search.cv_results_)\n",
    "\n",
    "    # Evaluate on validation set and log the accuracy\n",
    "    y_val_pred = rf_grid_search.predict(X_val)\n",
    "    rf_val_accuracy = accuracy_score(y_val, y_val_pred)\n",
    "    mlflow.log_metric('val_accuracy_rf', rf_val_accuracy)\n",
    "    mlflow.set_tag('model_type', 'RandomForest')\n"
   ]
  },
  {
   "cell_type": "code",
   "execution_count": 69,
   "metadata": {},
   "outputs": [
    {
     "name": "stdout",
     "output_type": "stream",
     "text": [
      "Fitting 3 folds for each of 24 candidates, totalling 72 fits\n",
      "[CV] END ..................C=0.1, gamma=scale, kernel=linear; total time=   0.0s\n",
      "[CV] END ..................C=0.1, gamma=scale, kernel=linear; total time=   0.0s\n",
      "[CV] END ..................C=0.1, gamma=scale, kernel=linear; total time=   0.0s\n",
      "[CV] END ....................C=0.1, gamma=scale, kernel=poly; total time=   0.0s\n",
      "[CV] END ....................C=0.1, gamma=scale, kernel=poly; total time=   0.0s\n",
      "[CV] END ...................C=0.1, gamma=auto, kernel=linear; total time=   0.0s\n",
      "[CV] END ...................C=0.1, gamma=auto, kernel=linear; total time=   0.0s\n",
      "[CV] END ....................C=0.1, gamma=scale, kernel=poly; total time=   0.0s\n",
      "[CV] END ...................C=0.1, gamma=auto, kernel=linear; total time=   0.0s\n",
      "[CV] END .....................C=0.1, gamma=auto, kernel=poly; total time=   0.0s\n",
      "[CV] END .....................C=0.1, gamma=scale, kernel=rbf; total time=   0.1s\n",
      "[CV] END .....................C=0.1, gamma=scale, kernel=rbf; total time=   0.1s\n",
      "[CV] END .....................C=0.1, gamma=scale, kernel=rbf; total time=   0.1s\n",
      "[CV] END .....................C=0.1, gamma=auto, kernel=poly; total time=   0.0s\n",
      "[CV] END ....................C=1, gamma=scale, kernel=linear; total time=   0.0s\n",
      "[CV] END ....................C=1, gamma=scale, kernel=linear; total time=   0.0s\n",
      "[CV] END .....................C=0.1, gamma=auto, kernel=poly; total time=   0.0s\n",
      "[CV] END ....................C=1, gamma=scale, kernel=linear; total time=   0.0s\n",
      "[CV] END ......................C=1, gamma=scale, kernel=poly; total time=   0.0s\n",
      "[CV] END ......................C=1, gamma=scale, kernel=poly; total time=   0.0s\n",
      "[CV] END .......................C=1, gamma=scale, kernel=rbf; total time=   0.1s\n",
      "[CV] END .......................C=1, gamma=scale, kernel=rbf; total time=   0.1s\n",
      "[CV] END ......................C=1, gamma=scale, kernel=poly; total time=   0.0s\n",
      "[CV] END ......................C=0.1, gamma=auto, kernel=rbf; total time=   0.2s\n",
      "[CV] END .....................C=1, gamma=auto, kernel=linear; total time=   0.0s\n",
      "[CV] END .....................C=1, gamma=auto, kernel=linear; total time=   0.0s\n",
      "[CV] END ......................C=0.1, gamma=auto, kernel=rbf; total time=   0.2s\n",
      "[CV] END ......................C=0.1, gamma=auto, kernel=rbf; total time=   0.2s\n",
      "[CV] END .....................C=1, gamma=auto, kernel=linear; total time=   0.0s\n",
      "[CV] END .......................C=1, gamma=auto, kernel=poly; total time=   0.0s\n",
      "[CV] END ...................C=10, gamma=scale, kernel=linear; total time=   0.0s\n",
      "[CV] END ...................C=10, gamma=scale, kernel=linear; total time=   0.0s\n",
      "[CV] END .......................C=1, gamma=scale, kernel=rbf; total time=   0.1s\n",
      "[CV] END .......................C=1, gamma=auto, kernel=poly; total time=   0.0s\n",
      "[CV] END .....................C=10, gamma=scale, kernel=poly; total time=   0.0s\n",
      "[CV] END ...................C=10, gamma=scale, kernel=linear; total time=   0.0s\n",
      "[CV] END ......................C=10, gamma=scale, kernel=rbf; total time=   0.1s\n",
      "[CV] END .....................C=10, gamma=scale, kernel=poly; total time=   0.0s\n",
      "[CV] END .....................C=10, gamma=scale, kernel=poly; total time=   0.0s\n",
      "[CV] END ....................C=10, gamma=auto, kernel=linear; total time=   0.0s\n",
      "[CV] END ......................C=10, gamma=scale, kernel=rbf; total time=   0.1s\n",
      "[CV] END ....................C=10, gamma=auto, kernel=linear; total time=   0.0s\n",
      "[CV] END ....................C=10, gamma=auto, kernel=linear; total time=   0.0s\n",
      "[CV] END ......................C=10, gamma=scale, kernel=rbf; total time=   0.1s\n",
      "[CV] END ......................C=10, gamma=auto, kernel=poly; total time=   0.0s\n",
      "[CV] END ......................C=10, gamma=auto, kernel=poly; total time=   0.0s\n",
      "[CV] END ..................C=100, gamma=scale, kernel=linear; total time=   0.1s\n",
      "[CV] END ........................C=1, gamma=auto, kernel=rbf; total time=   0.2s\n",
      "[CV] END ..................C=100, gamma=scale, kernel=linear; total time=   0.1s\n",
      "[CV] END ........................C=1, gamma=auto, kernel=rbf; total time=   0.2s\n",
      "[CV] END ......................C=10, gamma=auto, kernel=poly; total time=   0.1s\n",
      "[CV] END ..................C=100, gamma=scale, kernel=linear; total time=   0.1s\n",
      "[CV] END .......................C=1, gamma=auto, kernel=poly; total time=   0.1s\n",
      "[CV] END ....................C=100, gamma=scale, kernel=poly; total time=   0.1s\n",
      "[CV] END .....................C=100, gamma=scale, kernel=rbf; total time=   0.2s\n",
      "[CV] END .....................C=100, gamma=scale, kernel=rbf; total time=   0.3s\n",
      "[CV] END .......................C=10, gamma=auto, kernel=rbf; total time=   0.4s\n",
      "[CV] END ....................C=100, gamma=scale, kernel=poly; total time=   0.1s\n",
      "[CV] END .....................C=100, gamma=scale, kernel=rbf; total time=   0.2s\n",
      "[CV] END ...................C=100, gamma=auto, kernel=linear; total time=   0.1s\n",
      "[CV] END ....................C=100, gamma=scale, kernel=poly; total time=   0.1s\n",
      "[CV] END ...................C=100, gamma=auto, kernel=linear; total time=   0.1s\n",
      "[CV] END .......................C=10, gamma=auto, kernel=rbf; total time=   0.5s\n",
      "[CV] END .......................C=10, gamma=auto, kernel=rbf; total time=   0.5s\n",
      "[CV] END ...................C=100, gamma=auto, kernel=linear; total time=   0.1s\n",
      "[CV] END .....................C=100, gamma=auto, kernel=poly; total time=   0.0s\n",
      "[CV] END .....................C=100, gamma=auto, kernel=poly; total time=   0.0s\n",
      "[CV] END .....................C=100, gamma=auto, kernel=poly; total time=   0.0s\n",
      "[CV] END ........................C=1, gamma=auto, kernel=rbf; total time=   0.5s\n",
      "[CV] END ......................C=100, gamma=auto, kernel=rbf; total time=   0.3s\n",
      "[CV] END ......................C=100, gamma=auto, kernel=rbf; total time=   0.3s\n",
      "[CV] END ......................C=100, gamma=auto, kernel=rbf; total time=   0.3s\n"
     ]
    }
   ],
   "source": [
    "# Start a parent run for SVM\n",
    "with mlflow.start_run(run_name=\"GridSearchCV_SVM\") as svm_parent_run:\n",
    "    # Log dataset information\n",
    "    log_dataset_info()\n",
    "    \n",
    "    svm_grid_search.fit(X_train, y_train)\n",
    "    \n",
    "    # Log the best estimator in a separate, clearly designated run\n",
    "    with mlflow.start_run(run_name=\"BestModel_SVM\", nested=True) as svm_best_model_run:\n",
    "        mlflow.sklearn.log_model(svm_grid_search.best_estimator_, \"best_model_svm\")\n",
    "        mlflow.log_params(svm_grid_search.best_params_)\n",
    "        mlflow.log_metric('best_score', svm_grid_search.best_score_)\n",
    "        mlflow.set_tag('parent_run_id', svm_parent_run.info.run_id)\n",
    "\n",
    "    # Log all results for hyperparameter tuning\n",
    "    log_cv_results_to_mlflow(svm_grid_search.cv_results_)\n",
    "\n",
    "    # Evaluate on validation set and log the accuracy\n",
    "    y_val_pred = svm_grid_search.predict(X_val)\n",
    "    svm_val_accuracy = accuracy_score(y_val, y_val_pred)\n",
    "    mlflow.log_metric('val_accuracy_svm', svm_val_accuracy)\n",
    "    mlflow.set_tag('model_type', 'SVM')\n"
   ]
  },
  {
   "cell_type": "code",
   "execution_count": 70,
   "metadata": {},
   "outputs": [],
   "source": [
    "# Evaluate Random Forest on test set\n",
    "with mlflow.start_run(run_name=\"Test_Evaluation_RandomForest\", nested=True):\n",
    "    y_test_pred_rf = rf_grid_search.predict(X_test)\n",
    "    rf_test_accuracy = accuracy_score(y_test, y_test_pred_rf)\n",
    "    mlflow.log_metric('test_accuracy_rf', rf_test_accuracy)\n",
    "    mlflow.set_tag('model_type', 'RandomForest')\n",
    "    mlflow.set_tag('parent_run_id', rf_parent_run.info.run_id)\n",
    "\n",
    "# Evaluate SVM on test set\n",
    "with mlflow.start_run(run_name=\"Test_Evaluation_SVM\", nested=True):\n",
    "    y_test_pred_svm = svm_grid_search.predict(X_test)\n",
    "    svm_test_accuracy = accuracy_score(y_test, y_test_pred_svm)\n",
    "    mlflow.log_metric('test_accuracy_svm', svm_test_accuracy)\n",
    "    mlflow.set_tag('model_type', 'SVM')\n",
    "    mlflow.set_tag('parent_run_id', svm_parent_run.info.run_id)\n"
   ]
  }
 ],
 "metadata": {
  "kernelspec": {
   "display_name": "classification",
   "language": "python",
   "name": "python3"
  },
  "language_info": {
   "codemirror_mode": {
    "name": "ipython",
    "version": 3
   },
   "file_extension": ".py",
   "mimetype": "text/x-python",
   "name": "python",
   "nbconvert_exporter": "python",
   "pygments_lexer": "ipython3",
   "version": "3.12.3"
  }
 },
 "nbformat": 4,
 "nbformat_minor": 2
}
